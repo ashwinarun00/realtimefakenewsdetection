{
  "nbformat": 4,
  "nbformat_minor": 0,
  "metadata": {
    "accelerator": "GPU",
    "colab": {
      "provenance": [],
      "include_colab_link": true
    },
    "kernelspec": {
      "display_name": "Python 3",
      "language": "python",
      "name": "python3"
    },
    "language_info": {
      "codemirror_mode": {
        "name": "ipython",
        "version": 3
      },
      "file_extension": ".py",
      "mimetype": "text/x-python",
      "name": "python",
      "nbconvert_exporter": "python",
      "pygments_lexer": "ipython3",
      "version": "3.6.6"
    }
  },
  "cells": [
    {
      "cell_type": "markdown",
      "metadata": {
        "id": "view-in-github",
        "colab_type": "text"
      },
      "source": [
        "<a href=\"https://colab.research.google.com/github/ashwinarun00/realtimefakenewsdetection/blob/main/Fake_News_Extraction_BERT_Paramters.ipynb\" target=\"_parent\"><img src=\"https://colab.research.google.com/assets/colab-badge.svg\" alt=\"Open In Colab\"/></a>"
      ]
    },
    {
      "cell_type": "markdown",
      "metadata": {
        "id": "vW3_2ULOXjp_"
      },
      "source": [
        "#Real-Time News Classification"
      ]
    },
    {
      "cell_type": "markdown",
      "metadata": {
        "id": "_UNAu1Y4HNzN"
      },
      "source": [
        "##I.Extracting News From TV/Radio via Speech to Text"
      ]
    },
    {
      "cell_type": "code",
      "metadata": {
        "id": "PcRcm6RHo5PE",
        "collapsed": true
      },
      "source": [
        "import msvcrt\n",
        "import time\n",
        "import pyaudio\n",
        "import speech_recognition as sr\n",
        "\n",
        "# obtain audio from the microphone\n",
        "r = sr.Recognizer()\n",
        "print(\"Enter 'm' to BEGIN recording \\nEnter 'q' to STOP recording\")\n",
        "f = open('log.txt','a') #to save the output\n",
        "while True:\n",
        "    ch = input(\"Enter status:\")\n",
        "    if ch.upper() == 'M':\n",
        "        with sr.Microphone() as source:\n",
        "            print(\"Recording...\")\n",
        "            audio = r.listen(source)\n",
        "            try:\n",
        "                text = r.recognize_google(audio)\n",
        "                print(\"Text : {}\".format(text))\n",
        "                f.write(text)\n",
        "            except sr.UnknownValueError:\n",
        "                print(\"Google Speech Recognition could not understand audio\")\n",
        "            except sr.RequestError as e:\n",
        "                print(\"Could not request results from Google Speech Recognition service; {0}\".format(e))\n",
        "    if ch.upper() == 'Q':\n",
        "        f.close()\n",
        "        break\n",
        "    else:\n",
        "        continue"
      ],
      "execution_count": null,
      "outputs": []
    },
    {
      "cell_type": "code",
      "metadata": {
        "id": "F1Pt_Y3Np6n7"
      },
      "source": [
        "audio = '/content/audio1.mp3'\n",
        "import IPython.display\n",
        "IPython.display.Audio(audio)"
      ],
      "execution_count": null,
      "outputs": []
    },
    {
      "cell_type": "code",
      "metadata": {
        "id": "GjuyqCMhDpT_"
      },
      "source": [
        "with open('/content/log.txt') as f:\n",
        "  fake_text = f.read()\n",
        "print(fake_text)"
      ],
      "execution_count": null,
      "outputs": []
    },
    {
      "cell_type": "code",
      "metadata": {
        "id": "MHigRZpfqulI"
      },
      "source": [
        "audio = '/content/audio2.mp3'\n",
        "import IPython.display\n",
        "IPython.display.Audio(audio)"
      ],
      "execution_count": null,
      "outputs": []
    },
    {
      "cell_type": "code",
      "metadata": {
        "id": "zmQ6vBt0j_6t"
      },
      "source": [
        "with open('/content/log.txt') as f:\n",
        "  true_text = f.read()\n",
        "print(true_text)"
      ],
      "execution_count": null,
      "outputs": []
    },
    {
      "cell_type": "markdown",
      "metadata": {
        "id": "J5ysnUdTDVt5"
      },
      "source": [
        "##II.Extracting News From Image Capturing Headline"
      ]
    },
    {
      "cell_type": "code",
      "metadata": {
        "id": "-VHT3L_VCu37"
      },
      "source": [
        "!sudo apt install tesseract-ocr\n",
        "!pip install pytesseract"
      ],
      "execution_count": null,
      "outputs": []
    },
    {
      "cell_type": "code",
      "metadata": {
        "id": "pkNdVluFC2I0"
      },
      "source": [
        "import pytesseract\n",
        "import cv2\n",
        "import shutil\n",
        "import os\n",
        "import random\n",
        "import re, string\n",
        "from string import punctuation\n",
        "import matplotlib.pyplot as plt\n",
        "from PIL import Image\n",
        "from google.colab.patches import cv2_imshow\n",
        "\n",
        "\n",
        "f = open('log2.txt','w') #to save the output\n",
        "\n",
        "stop = {\"breaking\", \"news\", \"report\", \"channel\"}\n",
        "punctuation = set(string.punctuation)\n",
        "stop.update(punctuation)\n",
        "\n",
        "def remove_stopwords(text):\n",
        "    final_text = []\n",
        "    for i in text.split():\n",
        "        if i.strip().lower() not in stop:\n",
        "            final_text.append(i.strip())\n",
        "    return \" \".join(final_text)\n",
        "\n",
        "image = cv2.imread(\"/content/headline2.jpg\")\n",
        "cv2_imshow(image)\n",
        "pytesseract.pytesseract.tesseract_cmd = r'/usr/bin/tesseract'\n",
        "\n",
        "\n",
        "# get the string\n",
        "string = pytesseract.image_to_string(image)\n",
        "string = remove_stopwords(string)\n",
        "string = string.lower()\n",
        "print(string)\n",
        "f.write(string)\n",
        "f.close()"
      ],
      "execution_count": null,
      "outputs": []
    },
    {
      "cell_type": "markdown",
      "metadata": {
        "id": "4meHvLt2FI5C"
      },
      "source": [
        "##1. Importing necessary libraries"
      ]
    },
    {
      "cell_type": "code",
      "metadata": {
        "id": "8SGb1Q5hBLQB"
      },
      "source": [
        "import pandas as pd\n",
        "import numpy as np # linear algebra"
      ],
      "execution_count": null,
      "outputs": []
    },
    {
      "cell_type": "code",
      "metadata": {
        "id": "kNQWP8_oApop"
      },
      "source": [
        "# Code to read csv file into Colaboratory:\n",
        "!pip install -U -q PyDrive\n",
        "from pydrive.auth import GoogleAuth\n",
        "from pydrive.drive import GoogleDrive\n",
        "from google.colab import auth\n",
        "from oauth2client.client import GoogleCredentials\n",
        "# Authenticate and create the PyDrive client.\n",
        "auth.authenticate_user()\n",
        "gauth = GoogleAuth()\n",
        "gauth.credentials = GoogleCredentials.get_application_default()\n",
        "drive = GoogleDrive(gauth)"
      ],
      "execution_count": null,
      "outputs": []
    },
    {
      "cell_type": "markdown",
      "metadata": {
        "id": "IsAVd8QHFQl3"
      },
      "source": [
        "##2. Importing dataset"
      ]
    },
    {
      "cell_type": "code",
      "metadata": {
        "id": "h875ayBnAssT"
      },
      "source": [
        "link = 'https://drive.google.com/file/d/1_EHtBBeecWj2bMHEIcklvDqwxzsL8YrM/view'\n",
        "\n",
        "# to get the id part of the file\n",
        "id = link.split(\"/\")[-2]\n",
        "\n",
        "downloaded = drive.CreateFile({'id':id})\n",
        "downloaded.GetContentFile('Fake.csv')\n",
        "\n",
        "fake_data = pd.read_csv('Fake.csv')"
      ],
      "execution_count": null,
      "outputs": []
    },
    {
      "cell_type": "code",
      "metadata": {
        "id": "PkwS6EzuAuCZ"
      },
      "source": [
        "link = 'https://drive.google.com/file/d/1b2ki8XaRMXRqnrOFWvXze3gz8kPBXndk/view'\n",
        "\n",
        "# to get the id part of the file\n",
        "id = link.split(\"/\")[-2]\n",
        "\n",
        "downloaded = drive.CreateFile({'id':id})\n",
        "downloaded.GetContentFile('True.csv')\n",
        "\n",
        "real_data = pd.read_csv('True.csv')"
      ],
      "execution_count": null,
      "outputs": []
    },
    {
      "cell_type": "markdown",
      "metadata": {
        "id": "7Et6l_cjFguy"
      },
      "source": [
        "##3. Data preprocessing & cleaning"
      ]
    },
    {
      "cell_type": "code",
      "metadata": {
        "colab": {
          "base_uri": "https://localhost:8080/",
          "height": 203
        },
        "id": "ZD5WWWHO_Rc1",
        "outputId": "1ffca9ba-0a02-415b-b414-0a8455e0f425"
      },
      "source": [
        "real_data.head()"
      ],
      "execution_count": null,
      "outputs": [
        {
          "output_type": "execute_result",
          "data": {
            "text/html": [
              "<div>\n",
              "<style scoped>\n",
              "    .dataframe tbody tr th:only-of-type {\n",
              "        vertical-align: middle;\n",
              "    }\n",
              "\n",
              "    .dataframe tbody tr th {\n",
              "        vertical-align: top;\n",
              "    }\n",
              "\n",
              "    .dataframe thead th {\n",
              "        text-align: right;\n",
              "    }\n",
              "</style>\n",
              "<table border=\"1\" class=\"dataframe\">\n",
              "  <thead>\n",
              "    <tr style=\"text-align: right;\">\n",
              "      <th></th>\n",
              "      <th>title</th>\n",
              "      <th>text</th>\n",
              "      <th>subject</th>\n",
              "      <th>date</th>\n",
              "    </tr>\n",
              "  </thead>\n",
              "  <tbody>\n",
              "    <tr>\n",
              "      <th>0</th>\n",
              "      <td>As U.S. budget fight looms, Republicans flip t...</td>\n",
              "      <td>WASHINGTON (Reuters) - The head of a conservat...</td>\n",
              "      <td>politicsNews</td>\n",
              "      <td>December 31, 2017</td>\n",
              "    </tr>\n",
              "    <tr>\n",
              "      <th>1</th>\n",
              "      <td>U.S. military to accept transgender recruits o...</td>\n",
              "      <td>WASHINGTON (Reuters) - Transgender people will...</td>\n",
              "      <td>politicsNews</td>\n",
              "      <td>December 29, 2017</td>\n",
              "    </tr>\n",
              "    <tr>\n",
              "      <th>2</th>\n",
              "      <td>Senior U.S. Republican senator: 'Let Mr. Muell...</td>\n",
              "      <td>WASHINGTON (Reuters) - The special counsel inv...</td>\n",
              "      <td>politicsNews</td>\n",
              "      <td>December 31, 2017</td>\n",
              "    </tr>\n",
              "    <tr>\n",
              "      <th>3</th>\n",
              "      <td>FBI Russia probe helped by Australian diplomat...</td>\n",
              "      <td>WASHINGTON (Reuters) - Trump campaign adviser ...</td>\n",
              "      <td>politicsNews</td>\n",
              "      <td>December 30, 2017</td>\n",
              "    </tr>\n",
              "    <tr>\n",
              "      <th>4</th>\n",
              "      <td>Trump wants Postal Service to charge 'much mor...</td>\n",
              "      <td>SEATTLE/WASHINGTON (Reuters) - President Donal...</td>\n",
              "      <td>politicsNews</td>\n",
              "      <td>December 29, 2017</td>\n",
              "    </tr>\n",
              "  </tbody>\n",
              "</table>\n",
              "</div>"
            ],
            "text/plain": [
              "                                               title  ...                date\n",
              "0  As U.S. budget fight looms, Republicans flip t...  ...  December 31, 2017 \n",
              "1  U.S. military to accept transgender recruits o...  ...  December 29, 2017 \n",
              "2  Senior U.S. Republican senator: 'Let Mr. Muell...  ...  December 31, 2017 \n",
              "3  FBI Russia probe helped by Australian diplomat...  ...  December 30, 2017 \n",
              "4  Trump wants Postal Service to charge 'much mor...  ...  December 29, 2017 \n",
              "\n",
              "[5 rows x 4 columns]"
            ]
          },
          "metadata": {
            "tags": []
          },
          "execution_count": 5
        }
      ]
    },
    {
      "cell_type": "code",
      "metadata": {
        "colab": {
          "base_uri": "https://localhost:8080/",
          "height": 203
        },
        "id": "HsSx3GOr_Rc5",
        "outputId": "30d34506-2d35-436f-e2d3-668c689e8a11"
      },
      "source": [
        "fake_data.head()"
      ],
      "execution_count": null,
      "outputs": [
        {
          "output_type": "execute_result",
          "data": {
            "text/html": [
              "<div>\n",
              "<style scoped>\n",
              "    .dataframe tbody tr th:only-of-type {\n",
              "        vertical-align: middle;\n",
              "    }\n",
              "\n",
              "    .dataframe tbody tr th {\n",
              "        vertical-align: top;\n",
              "    }\n",
              "\n",
              "    .dataframe thead th {\n",
              "        text-align: right;\n",
              "    }\n",
              "</style>\n",
              "<table border=\"1\" class=\"dataframe\">\n",
              "  <thead>\n",
              "    <tr style=\"text-align: right;\">\n",
              "      <th></th>\n",
              "      <th>title</th>\n",
              "      <th>text</th>\n",
              "      <th>subject</th>\n",
              "      <th>date</th>\n",
              "    </tr>\n",
              "  </thead>\n",
              "  <tbody>\n",
              "    <tr>\n",
              "      <th>0</th>\n",
              "      <td>Donald Trump Sends Out Embarrassing New Year’...</td>\n",
              "      <td>Donald Trump just couldn t wish all Americans ...</td>\n",
              "      <td>News</td>\n",
              "      <td>December 31, 2017</td>\n",
              "    </tr>\n",
              "    <tr>\n",
              "      <th>1</th>\n",
              "      <td>Drunk Bragging Trump Staffer Started Russian ...</td>\n",
              "      <td>House Intelligence Committee Chairman Devin Nu...</td>\n",
              "      <td>News</td>\n",
              "      <td>December 31, 2017</td>\n",
              "    </tr>\n",
              "    <tr>\n",
              "      <th>2</th>\n",
              "      <td>Sheriff David Clarke Becomes An Internet Joke...</td>\n",
              "      <td>On Friday, it was revealed that former Milwauk...</td>\n",
              "      <td>News</td>\n",
              "      <td>December 30, 2017</td>\n",
              "    </tr>\n",
              "    <tr>\n",
              "      <th>3</th>\n",
              "      <td>Trump Is So Obsessed He Even Has Obama’s Name...</td>\n",
              "      <td>On Christmas day, Donald Trump announced that ...</td>\n",
              "      <td>News</td>\n",
              "      <td>December 29, 2017</td>\n",
              "    </tr>\n",
              "    <tr>\n",
              "      <th>4</th>\n",
              "      <td>Pope Francis Just Called Out Donald Trump Dur...</td>\n",
              "      <td>Pope Francis used his annual Christmas Day mes...</td>\n",
              "      <td>News</td>\n",
              "      <td>December 25, 2017</td>\n",
              "    </tr>\n",
              "  </tbody>\n",
              "</table>\n",
              "</div>"
            ],
            "text/plain": [
              "                                               title  ...               date\n",
              "0   Donald Trump Sends Out Embarrassing New Year’...  ...  December 31, 2017\n",
              "1   Drunk Bragging Trump Staffer Started Russian ...  ...  December 31, 2017\n",
              "2   Sheriff David Clarke Becomes An Internet Joke...  ...  December 30, 2017\n",
              "3   Trump Is So Obsessed He Even Has Obama’s Name...  ...  December 29, 2017\n",
              "4   Pope Francis Just Called Out Donald Trump Dur...  ...  December 25, 2017\n",
              "\n",
              "[5 rows x 4 columns]"
            ]
          },
          "metadata": {
            "tags": []
          },
          "execution_count": 6
        }
      ]
    },
    {
      "cell_type": "code",
      "metadata": {
        "colab": {
          "base_uri": "https://localhost:8080/"
        },
        "id": "ppd2WTL7_Rc5",
        "outputId": "48774936-0177-43a9-afbd-ca56122d9a45"
      },
      "source": [
        "print(len(real_data))\n",
        "print(len(fake_data))\n",
        "\n",
        "nb_articles = min(len(real_data), len(fake_data))\n",
        "real_data = real_data[:nb_articles]\n",
        "fake_data = fake_data[:nb_articles]\n",
        "\n",
        "print(len(real_data))\n",
        "print(len(fake_data))"
      ],
      "execution_count": null,
      "outputs": [
        {
          "output_type": "stream",
          "text": [
            "21417\n",
            "23481\n",
            "21417\n",
            "21417\n"
          ],
          "name": "stdout"
        }
      ]
    },
    {
      "cell_type": "markdown",
      "metadata": {
        "id": "ZN6rh_J3_Rc6"
      },
      "source": [
        "###Adding labels for classification"
      ]
    },
    {
      "cell_type": "code",
      "metadata": {
        "id": "wKIIg_os_Rc6"
      },
      "source": [
        "real_data['is_fake'] = False\n",
        "fake_data['is_fake'] = True"
      ],
      "execution_count": null,
      "outputs": []
    },
    {
      "cell_type": "code",
      "metadata": {
        "colab": {
          "base_uri": "https://localhost:8080/",
          "height": 203
        },
        "id": "5cAX0tan_Rc7",
        "outputId": "1e3d9873-eed7-44b0-d807-f73e10860405"
      },
      "source": [
        "real_data.head()"
      ],
      "execution_count": null,
      "outputs": [
        {
          "output_type": "execute_result",
          "data": {
            "text/html": [
              "<div>\n",
              "<style scoped>\n",
              "    .dataframe tbody tr th:only-of-type {\n",
              "        vertical-align: middle;\n",
              "    }\n",
              "\n",
              "    .dataframe tbody tr th {\n",
              "        vertical-align: top;\n",
              "    }\n",
              "\n",
              "    .dataframe thead th {\n",
              "        text-align: right;\n",
              "    }\n",
              "</style>\n",
              "<table border=\"1\" class=\"dataframe\">\n",
              "  <thead>\n",
              "    <tr style=\"text-align: right;\">\n",
              "      <th></th>\n",
              "      <th>title</th>\n",
              "      <th>text</th>\n",
              "      <th>subject</th>\n",
              "      <th>date</th>\n",
              "      <th>is_fake</th>\n",
              "    </tr>\n",
              "  </thead>\n",
              "  <tbody>\n",
              "    <tr>\n",
              "      <th>0</th>\n",
              "      <td>As U.S. budget fight looms, Republicans flip t...</td>\n",
              "      <td>WASHINGTON (Reuters) - The head of a conservat...</td>\n",
              "      <td>politicsNews</td>\n",
              "      <td>December 31, 2017</td>\n",
              "      <td>False</td>\n",
              "    </tr>\n",
              "    <tr>\n",
              "      <th>1</th>\n",
              "      <td>U.S. military to accept transgender recruits o...</td>\n",
              "      <td>WASHINGTON (Reuters) - Transgender people will...</td>\n",
              "      <td>politicsNews</td>\n",
              "      <td>December 29, 2017</td>\n",
              "      <td>False</td>\n",
              "    </tr>\n",
              "    <tr>\n",
              "      <th>2</th>\n",
              "      <td>Senior U.S. Republican senator: 'Let Mr. Muell...</td>\n",
              "      <td>WASHINGTON (Reuters) - The special counsel inv...</td>\n",
              "      <td>politicsNews</td>\n",
              "      <td>December 31, 2017</td>\n",
              "      <td>False</td>\n",
              "    </tr>\n",
              "    <tr>\n",
              "      <th>3</th>\n",
              "      <td>FBI Russia probe helped by Australian diplomat...</td>\n",
              "      <td>WASHINGTON (Reuters) - Trump campaign adviser ...</td>\n",
              "      <td>politicsNews</td>\n",
              "      <td>December 30, 2017</td>\n",
              "      <td>False</td>\n",
              "    </tr>\n",
              "    <tr>\n",
              "      <th>4</th>\n",
              "      <td>Trump wants Postal Service to charge 'much mor...</td>\n",
              "      <td>SEATTLE/WASHINGTON (Reuters) - President Donal...</td>\n",
              "      <td>politicsNews</td>\n",
              "      <td>December 29, 2017</td>\n",
              "      <td>False</td>\n",
              "    </tr>\n",
              "  </tbody>\n",
              "</table>\n",
              "</div>"
            ],
            "text/plain": [
              "                                               title  ... is_fake\n",
              "0  As U.S. budget fight looms, Republicans flip t...  ...   False\n",
              "1  U.S. military to accept transgender recruits o...  ...   False\n",
              "2  Senior U.S. Republican senator: 'Let Mr. Muell...  ...   False\n",
              "3  FBI Russia probe helped by Australian diplomat...  ...   False\n",
              "4  Trump wants Postal Service to charge 'much mor...  ...   False\n",
              "\n",
              "[5 rows x 5 columns]"
            ]
          },
          "metadata": {
            "tags": []
          },
          "execution_count": 9
        }
      ]
    },
    {
      "cell_type": "code",
      "metadata": {
        "colab": {
          "base_uri": "https://localhost:8080/",
          "height": 203
        },
        "id": "zBFx40f0_Rc7",
        "outputId": "97fe58bd-0580-4be5-e81d-86579fc40249"
      },
      "source": [
        "fake_data.head()"
      ],
      "execution_count": null,
      "outputs": [
        {
          "output_type": "execute_result",
          "data": {
            "text/html": [
              "<div>\n",
              "<style scoped>\n",
              "    .dataframe tbody tr th:only-of-type {\n",
              "        vertical-align: middle;\n",
              "    }\n",
              "\n",
              "    .dataframe tbody tr th {\n",
              "        vertical-align: top;\n",
              "    }\n",
              "\n",
              "    .dataframe thead th {\n",
              "        text-align: right;\n",
              "    }\n",
              "</style>\n",
              "<table border=\"1\" class=\"dataframe\">\n",
              "  <thead>\n",
              "    <tr style=\"text-align: right;\">\n",
              "      <th></th>\n",
              "      <th>title</th>\n",
              "      <th>text</th>\n",
              "      <th>subject</th>\n",
              "      <th>date</th>\n",
              "      <th>is_fake</th>\n",
              "    </tr>\n",
              "  </thead>\n",
              "  <tbody>\n",
              "    <tr>\n",
              "      <th>0</th>\n",
              "      <td>Donald Trump Sends Out Embarrassing New Year’...</td>\n",
              "      <td>Donald Trump just couldn t wish all Americans ...</td>\n",
              "      <td>News</td>\n",
              "      <td>December 31, 2017</td>\n",
              "      <td>True</td>\n",
              "    </tr>\n",
              "    <tr>\n",
              "      <th>1</th>\n",
              "      <td>Drunk Bragging Trump Staffer Started Russian ...</td>\n",
              "      <td>House Intelligence Committee Chairman Devin Nu...</td>\n",
              "      <td>News</td>\n",
              "      <td>December 31, 2017</td>\n",
              "      <td>True</td>\n",
              "    </tr>\n",
              "    <tr>\n",
              "      <th>2</th>\n",
              "      <td>Sheriff David Clarke Becomes An Internet Joke...</td>\n",
              "      <td>On Friday, it was revealed that former Milwauk...</td>\n",
              "      <td>News</td>\n",
              "      <td>December 30, 2017</td>\n",
              "      <td>True</td>\n",
              "    </tr>\n",
              "    <tr>\n",
              "      <th>3</th>\n",
              "      <td>Trump Is So Obsessed He Even Has Obama’s Name...</td>\n",
              "      <td>On Christmas day, Donald Trump announced that ...</td>\n",
              "      <td>News</td>\n",
              "      <td>December 29, 2017</td>\n",
              "      <td>True</td>\n",
              "    </tr>\n",
              "    <tr>\n",
              "      <th>4</th>\n",
              "      <td>Pope Francis Just Called Out Donald Trump Dur...</td>\n",
              "      <td>Pope Francis used his annual Christmas Day mes...</td>\n",
              "      <td>News</td>\n",
              "      <td>December 25, 2017</td>\n",
              "      <td>True</td>\n",
              "    </tr>\n",
              "  </tbody>\n",
              "</table>\n",
              "</div>"
            ],
            "text/plain": [
              "                                               title  ... is_fake\n",
              "0   Donald Trump Sends Out Embarrassing New Year’...  ...    True\n",
              "1   Drunk Bragging Trump Staffer Started Russian ...  ...    True\n",
              "2   Sheriff David Clarke Becomes An Internet Joke...  ...    True\n",
              "3   Trump Is So Obsessed He Even Has Obama’s Name...  ...    True\n",
              "4   Pope Francis Just Called Out Donald Trump Dur...  ...    True\n",
              "\n",
              "[5 rows x 5 columns]"
            ]
          },
          "metadata": {
            "tags": []
          },
          "execution_count": 10
        }
      ]
    },
    {
      "cell_type": "markdown",
      "metadata": {
        "id": "hwOgS4xa_Rc7"
      },
      "source": [
        "###Merging the two datasets & reshuffling the order"
      ]
    },
    {
      "cell_type": "code",
      "metadata": {
        "colab": {
          "base_uri": "https://localhost:8080/",
          "height": 203
        },
        "id": "7Bi9TbjA_Rc8",
        "outputId": "1a1f1aa5-7142-4328-87ff-eae3fb6b462b"
      },
      "source": [
        "from sklearn.utils import shuffle\n",
        "\n",
        "data = pd.concat([real_data, fake_data])\n",
        "\n",
        "# Shuffle the data\n",
        "data = shuffle(data).reset_index(drop=True)\n",
        "data.head()"
      ],
      "execution_count": null,
      "outputs": [
        {
          "output_type": "execute_result",
          "data": {
            "text/html": [
              "<div>\n",
              "<style scoped>\n",
              "    .dataframe tbody tr th:only-of-type {\n",
              "        vertical-align: middle;\n",
              "    }\n",
              "\n",
              "    .dataframe tbody tr th {\n",
              "        vertical-align: top;\n",
              "    }\n",
              "\n",
              "    .dataframe thead th {\n",
              "        text-align: right;\n",
              "    }\n",
              "</style>\n",
              "<table border=\"1\" class=\"dataframe\">\n",
              "  <thead>\n",
              "    <tr style=\"text-align: right;\">\n",
              "      <th></th>\n",
              "      <th>title</th>\n",
              "      <th>text</th>\n",
              "      <th>subject</th>\n",
              "      <th>date</th>\n",
              "      <th>is_fake</th>\n",
              "    </tr>\n",
              "  </thead>\n",
              "  <tbody>\n",
              "    <tr>\n",
              "      <th>0</th>\n",
              "      <td>Venezuela opposition blames Maduro for detaine...</td>\n",
              "      <td>CARACAS (Reuters) - Venezuela s opposition bla...</td>\n",
              "      <td>worldnews</td>\n",
              "      <td>September 18, 2017</td>\n",
              "      <td>False</td>\n",
              "    </tr>\n",
              "    <tr>\n",
              "      <th>1</th>\n",
              "      <td>Thousands donate to Planned Parenthood in name...</td>\n",
              "      <td>NEW YORK (Thomson Reuters Foundation) - Thousa...</td>\n",
              "      <td>politicsNews</td>\n",
              "      <td>November 15, 2016</td>\n",
              "      <td>False</td>\n",
              "    </tr>\n",
              "    <tr>\n",
              "      <th>2</th>\n",
              "      <td>London police give all clear, lift cordon in f...</td>\n",
              "      <td>LONDON (Reuters) - London police said they had...</td>\n",
              "      <td>worldnews</td>\n",
              "      <td>September 20, 2017</td>\n",
              "      <td>False</td>\n",
              "    </tr>\n",
              "    <tr>\n",
              "      <th>3</th>\n",
              "      <td>DRUNKS and EMPTY SEATS: Crooked Hillary Pander...</td>\n",
              "      <td>The woman whose criminal investigation has bee...</td>\n",
              "      <td>left-news</td>\n",
              "      <td>Oct 30, 2016</td>\n",
              "      <td>True</td>\n",
              "    </tr>\n",
              "    <tr>\n",
              "      <th>4</th>\n",
              "      <td>Merkel, party leaders meet to rev up German co...</td>\n",
              "      <td>BERLIN (Reuters) - Key allies of Chancellor An...</td>\n",
              "      <td>worldnews</td>\n",
              "      <td>October 29, 2017</td>\n",
              "      <td>False</td>\n",
              "    </tr>\n",
              "  </tbody>\n",
              "</table>\n",
              "</div>"
            ],
            "text/plain": [
              "                                               title  ... is_fake\n",
              "0  Venezuela opposition blames Maduro for detaine...  ...   False\n",
              "1  Thousands donate to Planned Parenthood in name...  ...   False\n",
              "2  London police give all clear, lift cordon in f...  ...   False\n",
              "3  DRUNKS and EMPTY SEATS: Crooked Hillary Pander...  ...    True\n",
              "4  Merkel, party leaders meet to rev up German co...  ...   False\n",
              "\n",
              "[5 rows x 5 columns]"
            ]
          },
          "metadata": {
            "tags": []
          },
          "execution_count": 11
        }
      ]
    },
    {
      "cell_type": "markdown",
      "metadata": {
        "id": "SgoZYmpBI-oU"
      },
      "source": [
        "###Merging title and text"
      ]
    },
    {
      "cell_type": "code",
      "metadata": {
        "colab": {
          "base_uri": "https://localhost:8080/",
          "height": 203
        },
        "id": "OJrLrhh4JAxE",
        "outputId": "8e6aa8f9-afab-4982-98be-11b94c8446f9"
      },
      "source": [
        "data['text'] = data['title'] + ' ' + data['text']\n",
        "data.head()"
      ],
      "execution_count": null,
      "outputs": [
        {
          "output_type": "execute_result",
          "data": {
            "text/html": [
              "<div>\n",
              "<style scoped>\n",
              "    .dataframe tbody tr th:only-of-type {\n",
              "        vertical-align: middle;\n",
              "    }\n",
              "\n",
              "    .dataframe tbody tr th {\n",
              "        vertical-align: top;\n",
              "    }\n",
              "\n",
              "    .dataframe thead th {\n",
              "        text-align: right;\n",
              "    }\n",
              "</style>\n",
              "<table border=\"1\" class=\"dataframe\">\n",
              "  <thead>\n",
              "    <tr style=\"text-align: right;\">\n",
              "      <th></th>\n",
              "      <th>title</th>\n",
              "      <th>text</th>\n",
              "      <th>subject</th>\n",
              "      <th>date</th>\n",
              "      <th>is_fake</th>\n",
              "    </tr>\n",
              "  </thead>\n",
              "  <tbody>\n",
              "    <tr>\n",
              "      <th>0</th>\n",
              "      <td>Venezuela opposition blames Maduro for detaine...</td>\n",
              "      <td>Venezuela opposition blames Maduro for detaine...</td>\n",
              "      <td>worldnews</td>\n",
              "      <td>September 18, 2017</td>\n",
              "      <td>False</td>\n",
              "    </tr>\n",
              "    <tr>\n",
              "      <th>1</th>\n",
              "      <td>Thousands donate to Planned Parenthood in name...</td>\n",
              "      <td>Thousands donate to Planned Parenthood in name...</td>\n",
              "      <td>politicsNews</td>\n",
              "      <td>November 15, 2016</td>\n",
              "      <td>False</td>\n",
              "    </tr>\n",
              "    <tr>\n",
              "      <th>2</th>\n",
              "      <td>London police give all clear, lift cordon in f...</td>\n",
              "      <td>London police give all clear, lift cordon in f...</td>\n",
              "      <td>worldnews</td>\n",
              "      <td>September 20, 2017</td>\n",
              "      <td>False</td>\n",
              "    </tr>\n",
              "    <tr>\n",
              "      <th>3</th>\n",
              "      <td>DRUNKS and EMPTY SEATS: Crooked Hillary Pander...</td>\n",
              "      <td>DRUNKS and EMPTY SEATS: Crooked Hillary Pander...</td>\n",
              "      <td>left-news</td>\n",
              "      <td>Oct 30, 2016</td>\n",
              "      <td>True</td>\n",
              "    </tr>\n",
              "    <tr>\n",
              "      <th>4</th>\n",
              "      <td>Merkel, party leaders meet to rev up German co...</td>\n",
              "      <td>Merkel, party leaders meet to rev up German co...</td>\n",
              "      <td>worldnews</td>\n",
              "      <td>October 29, 2017</td>\n",
              "      <td>False</td>\n",
              "    </tr>\n",
              "  </tbody>\n",
              "</table>\n",
              "</div>"
            ],
            "text/plain": [
              "                                               title  ... is_fake\n",
              "0  Venezuela opposition blames Maduro for detaine...  ...   False\n",
              "1  Thousands donate to Planned Parenthood in name...  ...   False\n",
              "2  London police give all clear, lift cordon in f...  ...   False\n",
              "3  DRUNKS and EMPTY SEATS: Crooked Hillary Pander...  ...    True\n",
              "4  Merkel, party leaders meet to rev up German co...  ...   False\n",
              "\n",
              "[5 rows x 5 columns]"
            ]
          },
          "metadata": {
            "tags": []
          },
          "execution_count": 12
        }
      ]
    },
    {
      "cell_type": "markdown",
      "metadata": {
        "id": "RsQ5VehQa3qq"
      },
      "source": [
        "###Converting into lowercase"
      ]
    },
    {
      "cell_type": "code",
      "metadata": {
        "id": "dqcO4WBPvrQ6",
        "colab": {
          "base_uri": "https://localhost:8080/",
          "height": 203
        },
        "outputId": "c0f7e5d8-12bc-446d-9e41-55f15dcbd6ff"
      },
      "source": [
        "#convert to lowercase ,concatenate\n",
        "#Confusion matrix in the end\n",
        "# Convert to lowercase\n",
        "data['text'] = data['text'].apply(lambda x: x.lower())\n",
        "data.head()\n"
      ],
      "execution_count": null,
      "outputs": [
        {
          "output_type": "execute_result",
          "data": {
            "text/html": [
              "<div>\n",
              "<style scoped>\n",
              "    .dataframe tbody tr th:only-of-type {\n",
              "        vertical-align: middle;\n",
              "    }\n",
              "\n",
              "    .dataframe tbody tr th {\n",
              "        vertical-align: top;\n",
              "    }\n",
              "\n",
              "    .dataframe thead th {\n",
              "        text-align: right;\n",
              "    }\n",
              "</style>\n",
              "<table border=\"1\" class=\"dataframe\">\n",
              "  <thead>\n",
              "    <tr style=\"text-align: right;\">\n",
              "      <th></th>\n",
              "      <th>title</th>\n",
              "      <th>text</th>\n",
              "      <th>subject</th>\n",
              "      <th>date</th>\n",
              "      <th>is_fake</th>\n",
              "    </tr>\n",
              "  </thead>\n",
              "  <tbody>\n",
              "    <tr>\n",
              "      <th>0</th>\n",
              "      <td>Venezuela opposition blames Maduro for detaine...</td>\n",
              "      <td>venezuela opposition blames maduro for detaine...</td>\n",
              "      <td>worldnews</td>\n",
              "      <td>September 18, 2017</td>\n",
              "      <td>False</td>\n",
              "    </tr>\n",
              "    <tr>\n",
              "      <th>1</th>\n",
              "      <td>Thousands donate to Planned Parenthood in name...</td>\n",
              "      <td>thousands donate to planned parenthood in name...</td>\n",
              "      <td>politicsNews</td>\n",
              "      <td>November 15, 2016</td>\n",
              "      <td>False</td>\n",
              "    </tr>\n",
              "    <tr>\n",
              "      <th>2</th>\n",
              "      <td>London police give all clear, lift cordon in f...</td>\n",
              "      <td>london police give all clear, lift cordon in f...</td>\n",
              "      <td>worldnews</td>\n",
              "      <td>September 20, 2017</td>\n",
              "      <td>False</td>\n",
              "    </tr>\n",
              "    <tr>\n",
              "      <th>3</th>\n",
              "      <td>DRUNKS and EMPTY SEATS: Crooked Hillary Pander...</td>\n",
              "      <td>drunks and empty seats: crooked hillary pander...</td>\n",
              "      <td>left-news</td>\n",
              "      <td>Oct 30, 2016</td>\n",
              "      <td>True</td>\n",
              "    </tr>\n",
              "    <tr>\n",
              "      <th>4</th>\n",
              "      <td>Merkel, party leaders meet to rev up German co...</td>\n",
              "      <td>merkel, party leaders meet to rev up german co...</td>\n",
              "      <td>worldnews</td>\n",
              "      <td>October 29, 2017</td>\n",
              "      <td>False</td>\n",
              "    </tr>\n",
              "  </tbody>\n",
              "</table>\n",
              "</div>"
            ],
            "text/plain": [
              "                                               title  ... is_fake\n",
              "0  Venezuela opposition blames Maduro for detaine...  ...   False\n",
              "1  Thousands donate to Planned Parenthood in name...  ...   False\n",
              "2  London police give all clear, lift cordon in f...  ...   False\n",
              "3  DRUNKS and EMPTY SEATS: Crooked Hillary Pander...  ...    True\n",
              "4  Merkel, party leaders meet to rev up German co...  ...   False\n",
              "\n",
              "[5 rows x 5 columns]"
            ]
          },
          "metadata": {
            "tags": []
          },
          "execution_count": 13
        }
      ]
    },
    {
      "cell_type": "markdown",
      "metadata": {
        "id": "oGKSa0e-_Rc8"
      },
      "source": [
        "###Spliting Data into training, testing and validation sets\n"
      ]
    },
    {
      "cell_type": "code",
      "metadata": {
        "colab": {
          "base_uri": "https://localhost:8080/"
        },
        "id": "eBvoBaed_Rc9",
        "outputId": "3d232b31-088a-4fb3-f4d8-d69dc7ae090b"
      },
      "source": [
        "train_data, validate_data, test_data = np.split(data.sample(frac=1), [int(.6*len(data)), int(.8*len(data))])\n",
        "\n",
        "train_data = train_data.reset_index(drop=True)\n",
        "validate_data = validate_data.reset_index(drop=True)\n",
        "test_data = test_data.reset_index(drop=True)\n",
        "\n",
        "del real_data\n",
        "del fake_data\n",
        "\n",
        "print(\"Size of training set: {}\".format(len(train_data)))\n",
        "print(\"Size of validation set: {}\".format(len(validate_data)))\n",
        "print(\"Size of testing set: {}\".format(len(test_data)))"
      ],
      "execution_count": null,
      "outputs": [
        {
          "output_type": "stream",
          "text": [
            "Size of training set: 25700\n",
            "Size of validation set: 8567\n",
            "Size of testing set: 8567\n"
          ],
          "name": "stdout"
        }
      ]
    },
    {
      "cell_type": "markdown",
      "metadata": {
        "id": "D8keDKnFbAT7"
      },
      "source": [
        "##Model Building"
      ]
    },
    {
      "cell_type": "markdown",
      "metadata": {
        "id": "DGN2Xde8_Rc9"
      },
      "source": [
        "Installing the required libraries:"
      ]
    },
    {
      "cell_type": "code",
      "metadata": {
        "id": "HZ1Asrxz_Rc9",
        "colab": {
          "base_uri": "https://localhost:8080/"
        },
        "outputId": "39e77aa7-7dba-4813-d837-19e6295971ac"
      },
      "source": [
        "!conda install -y pytorch torchvision cudatoolkit=10.1 -c pytorch\n",
        "!pip install transformers"
      ],
      "execution_count": null,
      "outputs": [
        {
          "output_type": "stream",
          "text": [
            "/bin/bash: conda: command not found\n",
            "Requirement already satisfied: transformers in /usr/local/lib/python3.7/dist-packages (4.9.1)\n",
            "Requirement already satisfied: regex!=2019.12.17 in /usr/local/lib/python3.7/dist-packages (from transformers) (2019.12.20)\n",
            "Requirement already satisfied: filelock in /usr/local/lib/python3.7/dist-packages (from transformers) (3.0.12)\n",
            "Requirement already satisfied: packaging in /usr/local/lib/python3.7/dist-packages (from transformers) (21.0)\n",
            "Requirement already satisfied: requests in /usr/local/lib/python3.7/dist-packages (from transformers) (2.23.0)\n",
            "Requirement already satisfied: numpy>=1.17 in /usr/local/lib/python3.7/dist-packages (from transformers) (1.19.5)\n",
            "Requirement already satisfied: sacremoses in /usr/local/lib/python3.7/dist-packages (from transformers) (0.0.45)\n",
            "Requirement already satisfied: tqdm>=4.27 in /usr/local/lib/python3.7/dist-packages (from transformers) (4.41.1)\n",
            "Requirement already satisfied: tokenizers<0.11,>=0.10.1 in /usr/local/lib/python3.7/dist-packages (from transformers) (0.10.3)\n",
            "Requirement already satisfied: importlib-metadata in /usr/local/lib/python3.7/dist-packages (from transformers) (4.6.1)\n",
            "Requirement already satisfied: pyyaml>=5.1 in /usr/local/lib/python3.7/dist-packages (from transformers) (5.4.1)\n",
            "Requirement already satisfied: huggingface-hub==0.0.12 in /usr/local/lib/python3.7/dist-packages (from transformers) (0.0.12)\n",
            "Requirement already satisfied: typing-extensions in /usr/local/lib/python3.7/dist-packages (from huggingface-hub==0.0.12->transformers) (3.7.4.3)\n",
            "Requirement already satisfied: pyparsing>=2.0.2 in /usr/local/lib/python3.7/dist-packages (from packaging->transformers) (2.4.7)\n",
            "Requirement already satisfied: zipp>=0.5 in /usr/local/lib/python3.7/dist-packages (from importlib-metadata->transformers) (3.5.0)\n",
            "Requirement already satisfied: urllib3!=1.25.0,!=1.25.1,<1.26,>=1.21.1 in /usr/local/lib/python3.7/dist-packages (from requests->transformers) (1.24.3)\n",
            "Requirement already satisfied: certifi>=2017.4.17 in /usr/local/lib/python3.7/dist-packages (from requests->transformers) (2021.5.30)\n",
            "Requirement already satisfied: chardet<4,>=3.0.2 in /usr/local/lib/python3.7/dist-packages (from requests->transformers) (3.0.4)\n",
            "Requirement already satisfied: idna<3,>=2.5 in /usr/local/lib/python3.7/dist-packages (from requests->transformers) (2.10)\n",
            "Requirement already satisfied: joblib in /usr/local/lib/python3.7/dist-packages (from sacremoses->transformers) (1.0.1)\n",
            "Requirement already satisfied: click in /usr/local/lib/python3.7/dist-packages (from sacremoses->transformers) (7.1.2)\n",
            "Requirement already satisfied: six in /usr/local/lib/python3.7/dist-packages (from sacremoses->transformers) (1.15.0)\n"
          ],
          "name": "stdout"
        }
      ]
    },
    {
      "cell_type": "markdown",
      "metadata": {
        "id": "LPMboNeFGGkS"
      },
      "source": [
        "BERT"
      ]
    },
    {
      "cell_type": "code",
      "metadata": {
        "colab": {
          "base_uri": "https://localhost:8080/"
        },
        "id": "i43luJti_Rc-",
        "outputId": "d47f13b8-47d2-402a-b1c6-14bd185e8b82"
      },
      "source": [
        "from transformers import BertTokenizer, BertForSequenceClassification\n",
        "import torch\n",
        "import torch.nn as nn\n",
        "import torch.optim as optim\n",
        "import torch.nn.functional as F\n",
        "\n",
        "device = torch.device('cuda') if torch.cuda.is_available() else torch.device('cpu')\n",
        "\n",
        "tokenizer = BertTokenizer.from_pretrained(\"bert-base-uncased\")\n",
        "model = BertForSequenceClassification.from_pretrained(\"bert-base-uncased\")\n",
        "model.config.num_labels = 1"
      ],
      "execution_count": null,
      "outputs": [
        {
          "output_type": "stream",
          "text": [
            "Some weights of the model checkpoint at bert-base-uncased were not used when initializing BertForSequenceClassification: ['cls.seq_relationship.bias', 'cls.predictions.transform.LayerNorm.bias', 'cls.seq_relationship.weight', 'cls.predictions.transform.LayerNorm.weight', 'cls.predictions.transform.dense.bias', 'cls.predictions.transform.dense.weight', 'cls.predictions.decoder.weight', 'cls.predictions.bias']\n",
            "- This IS expected if you are initializing BertForSequenceClassification from the checkpoint of a model trained on another task or with another architecture (e.g. initializing a BertForSequenceClassification model from a BertForPreTraining model).\n",
            "- This IS NOT expected if you are initializing BertForSequenceClassification from the checkpoint of a model that you expect to be exactly identical (initializing a BertForSequenceClassification model from a BertForSequenceClassification model).\n",
            "Some weights of BertForSequenceClassification were not initialized from the model checkpoint at bert-base-uncased and are newly initialized: ['classifier.weight', 'classifier.bias']\n",
            "You should probably TRAIN this model on a down-stream task to be able to use it for predictions and inference.\n"
          ],
          "name": "stderr"
        }
      ]
    },
    {
      "cell_type": "markdown",
      "metadata": {
        "id": "j3qnVrKz_Rc-"
      },
      "source": [
        "Creating the model structure"
      ]
    },
    {
      "cell_type": "code",
      "metadata": {
        "id": "ER1Xjohz_Rc_"
      },
      "source": [
        "# Freeze the pre trained parameters\n",
        "for param in model.parameters():\n",
        "    param.requires_grad = False\n",
        "\n",
        "# Add three new layers at the end of the network\n",
        "model.classifier = nn.Sequential(\n",
        "    nn.Linear(768, 256),\n",
        "    nn.ReLU(),\n",
        "    nn.Linear(256, 64),\n",
        "    nn.ReLU(),\n",
        "    nn.Linear(64, 2),\n",
        "    nn.Softmax(dim=1)\n",
        ")\n",
        "\n",
        "model = model.to(device)"
      ],
      "execution_count": null,
      "outputs": []
    },
    {
      "cell_type": "code",
      "metadata": {
        "id": "QhmK03sh_Rc_"
      },
      "source": [
        "criterion = nn.MSELoss().to(device)\n",
        "optimizer = optim.SGD(model.classifier.parameters(), lr=0.01)"
      ],
      "execution_count": null,
      "outputs": []
    },
    {
      "cell_type": "code",
      "metadata": {
        "id": "iR_4pEUT_Rc_"
      },
      "source": [
        "def preprocess_text(text):\n",
        "    parts = []\n",
        "\n",
        "    text_len = len(text.split(' '))\n",
        "    delta = 300\n",
        "    max_parts = 5\n",
        "    nb_cuts = int(text_len / delta)\n",
        "    nb_cuts = min(nb_cuts, max_parts)\n",
        "\n",
        "\n",
        "    for i in range(nb_cuts + 1):\n",
        "        text_part = ' '.join(text.split(' ')[i * delta: (i + 1) * delta])\n",
        "        parts.append(tokenizer.encode(text_part, return_tensors=\"pt\", max_length=500).to(device))\n",
        "\n",
        "    return parts"
      ],
      "execution_count": null,
      "outputs": []
    },
    {
      "cell_type": "markdown",
      "metadata": {
        "id": "lDoPtMn8bSFR"
      },
      "source": [
        "Model training"
      ]
    },
    {
      "cell_type": "code",
      "metadata": {
        "colab": {
          "base_uri": "https://localhost:8080/"
        },
        "id": "BVfasasx_Rc_",
        "outputId": "5767c88b-a10f-4908-aae7-5027d93e5e58"
      },
      "source": [
        "print_every = 300\n",
        "\n",
        "total_loss = 0\n",
        "all_losses = []\n",
        "\n",
        "CUDA_LAUNCH_BLOCKING=1\n",
        "\n",
        "model.train()\n",
        "\n",
        "for idx, row in train_data.iterrows():\n",
        "    text_parts = preprocess_text(str(row['text']))\n",
        "    label = torch.tensor([row['is_fake']]).long().to(device)\n",
        "\n",
        "    optimizer.zero_grad()\n",
        "\n",
        "    overall_output = torch.zeros((1, 2)).float().to(device)\n",
        "    for part in text_parts:\n",
        "        if len(part) > 0:\n",
        "            try:\n",
        "                input = part.reshape(-1)[:512].reshape(1, -1)\n",
        "                # print(input.shape)\n",
        "                overall_output += model(input, labels=label)[1].float().to(device)\n",
        "            except Exception as e:\n",
        "                print(str(e))\n",
        "\n",
        "#     overall_output /= len(text_parts)\n",
        "    overall_output = F.softmax(overall_output[0], dim=-1)\n",
        "\n",
        "    if label == 0:\n",
        "        label = torch.tensor([1.0, 0.0]).float().to(device)\n",
        "    elif label == 1:\n",
        "        label = torch.tensor([0.0, 1.0]).float().to(device)\n",
        "\n",
        "    # print(overall_output, label)\n",
        "\n",
        "    loss = criterion(overall_output, label)\n",
        "    total_loss += loss.item()\n",
        "\n",
        "    loss.backward()\n",
        "    optimizer.step()\n",
        "\n",
        "    if idx % print_every == 0 and idx > 0:\n",
        "        average_loss = total_loss / print_every\n",
        "        print(\"{}/{}. Average loss: {}\".format(idx, len(train_data), average_loss))\n",
        "        all_losses.append(average_loss)\n",
        "        total_loss = 0\n",
        "\n",
        ""
      ],
      "execution_count": null,
      "outputs": [
        {
          "output_type": "stream",
          "text": [
            "Truncation was not explicitly activated but `max_length` is provided a specific value, please use `truncation=True` to explicitly truncate examples to max length. Defaulting to 'longest_first' truncation strategy. If you encode pairs of sequences (GLUE-style) with the tokenizer you can select this strategy more precisely by providing a specific strategy to `truncation`.\n"
          ],
          "name": "stderr"
        },
        {
          "output_type": "stream",
          "text": [
            "300/25700. Average loss: 0.24235921976466973\n",
            "600/25700. Average loss: 0.22277765635401012\n",
            "900/25700. Average loss: 0.19835242715043327\n",
            "1200/25700. Average loss: 0.17475814981929336\n",
            "1500/25700. Average loss: 0.1475411510366636\n",
            "1800/25700. Average loss: 0.12307272840891528\n",
            "2100/25700. Average loss: 0.12878853305863838\n",
            "2400/25700. Average loss: 0.11472246393716584\n",
            "2700/25700. Average loss: 0.10255875075254153\n",
            "3000/25700. Average loss: 0.11043836443925102\n",
            "3300/25700. Average loss: 0.09486659812730068\n",
            "3600/25700. Average loss: 0.09377309023732475\n",
            "3900/25700. Average loss: 0.09410214598129339\n",
            "4200/25700. Average loss: 0.10732514638604092\n",
            "4500/25700. Average loss: 0.12569653447821716\n",
            "4800/25700. Average loss: 0.08334813698272531\n",
            "5100/25700. Average loss: 0.07893356760791903\n",
            "5400/25700. Average loss: 0.09042730144606442\n",
            "5700/25700. Average loss: 0.10119068292503168\n",
            "6000/25700. Average loss: 0.08015675864929411\n",
            "6300/25700. Average loss: 0.07695165122240724\n",
            "6600/25700. Average loss: 0.0825410321894257\n",
            "6900/25700. Average loss: 0.08037270284713487\n",
            "7200/25700. Average loss: 0.0930533402376265\n",
            "7500/25700. Average loss: 0.08381686100735047\n",
            "7800/25700. Average loss: 0.08385399831963393\n",
            "8100/25700. Average loss: 0.09146969824193851\n",
            "8400/25700. Average loss: 0.09457425232503738\n",
            "8700/25700. Average loss: 0.07647472154489757\n",
            "9000/25700. Average loss: 0.07675371965402215\n",
            "9300/25700. Average loss: 0.08245409750838008\n",
            "9600/25700. Average loss: 0.09352592454437399\n",
            "9900/25700. Average loss: 0.06878398238038547\n",
            "10200/25700. Average loss: 0.07703524919362584\n",
            "10500/25700. Average loss: 0.09349571443817695\n",
            "10800/25700. Average loss: 0.07758395203389228\n",
            "11100/25700. Average loss: 0.07244891890093035\n",
            "11400/25700. Average loss: 0.07308242695262986\n",
            "11700/25700. Average loss: 0.05722246988203551\n",
            "12000/25700. Average loss: 0.06910115929276041\n",
            "12300/25700. Average loss: 0.08992780840412404\n",
            "12600/25700. Average loss: 0.07639238748549057\n",
            "12900/25700. Average loss: 0.06428772006368187\n",
            "13200/25700. Average loss: 0.08730978148128239\n",
            "13500/25700. Average loss: 0.07577573484380537\n",
            "13800/25700. Average loss: 0.0812774772885435\n",
            "14100/25700. Average loss: 0.0745182521384777\n",
            "14400/25700. Average loss: 0.061184835642270625\n",
            "14700/25700. Average loss: 0.07888882495210055\n",
            "15000/25700. Average loss: 0.06709272908771406\n",
            "15300/25700. Average loss: 0.06723096849829441\n",
            "15600/25700. Average loss: 0.08599529949055675\n",
            "15900/25700. Average loss: 0.07876972616261507\n",
            "16200/25700. Average loss: 0.07147090388151507\n",
            "16500/25700. Average loss: 0.09124860639875502\n",
            "16800/25700. Average loss: 0.11066958287972739\n",
            "17100/25700. Average loss: 0.09893226277830157\n",
            "17400/25700. Average loss: 0.06672061486689927\n",
            "17700/25700. Average loss: 0.07127824274095473\n",
            "18000/25700. Average loss: 0.097149917613339\n",
            "18300/25700. Average loss: 0.06728686511616616\n",
            "18600/25700. Average loss: 0.07050671450644586\n",
            "18900/25700. Average loss: 0.0693993542912358\n",
            "19200/25700. Average loss: 0.07406416699089581\n",
            "19500/25700. Average loss: 0.07979171694116304\n",
            "19800/25700. Average loss: 0.07704340672998114\n",
            "20100/25700. Average loss: 0.07340674652169886\n",
            "20400/25700. Average loss: 0.08456577136540848\n",
            "20700/25700. Average loss: 0.0750810785952702\n",
            "21000/25700. Average loss: 0.07742954709678694\n",
            "21300/25700. Average loss: 0.06858544657824496\n",
            "21600/25700. Average loss: 0.0690544290386515\n",
            "21900/25700. Average loss: 0.07674726758713708\n",
            "22200/25700. Average loss: 0.06905300590156306\n",
            "22500/25700. Average loss: 0.06539391306843755\n",
            "22800/25700. Average loss: 0.06683536586635455\n",
            "23100/25700. Average loss: 0.0872297290707138\n",
            "23400/25700. Average loss: 0.07670886353245199\n",
            "23700/25700. Average loss: 0.07593562962740938\n",
            "24000/25700. Average loss: 0.07623216216445144\n",
            "24300/25700. Average loss: 0.06742626873407669\n",
            "24600/25700. Average loss: 0.07304157167367521\n",
            "24900/25700. Average loss: 0.07307272344556016\n",
            "25200/25700. Average loss: 0.057830383041925115\n",
            "25500/25700. Average loss: 0.06596010380805334\n"
          ],
          "name": "stdout"
        }
      ]
    },
    {
      "cell_type": "markdown",
      "metadata": {
        "id": "bvJk9fjNGSD6"
      },
      "source": [
        "Plotting loss:"
      ]
    },
    {
      "cell_type": "code",
      "metadata": {
        "colab": {
          "base_uri": "https://localhost:8080/",
          "height": 299
        },
        "id": "8mVm5MIk_RdA",
        "outputId": "ab1b8f82-cee7-4f0b-eb07-e2bf8dbb4f2d"
      },
      "source": [
        "import matplotlib.pyplot as plt\n",
        "\n",
        "%matplotlib inline\n",
        "torch.save(model.state_dict(), \"model_after_train.pt\")\n",
        "plt.ylabel('Loss')\n",
        "plt.xlabel('Epochs')\n",
        "plt.plot(all_losses,color='red')"
      ],
      "execution_count": null,
      "outputs": [
        {
          "output_type": "execute_result",
          "data": {
            "text/plain": [
              "[<matplotlib.lines.Line2D at 0x7f518a328e10>]"
            ]
          },
          "metadata": {
            "tags": []
          },
          "execution_count": 21
        },
        {
          "output_type": "display_data",
          "data": {
            "image/png": "[encoded data removed]",
            "text/plain": [
              "<Figure size 432x288 with 1 Axes>"
            ]
          },
          "metadata": {
            "tags": [],
            "needs_background": "light"
          }
        }
      ]
    },
    {
      "cell_type": "markdown",
      "metadata": {
        "id": "0aIuN_Se_RdB"
      },
      "source": [
        "## Accuracy on test set"
      ]
    },
    {
      "cell_type": "code",
      "metadata": {
        "colab": {
          "base_uri": "https://localhost:8080/"
        },
        "id": "rAKoS44U_RdB",
        "outputId": "6677a1e8-e1af-4e18-a77e-9ede296d4a7a"
      },
      "source": [
        "total = len(test_data)\n",
        "labell=[]\n",
        "resultl=[]\n",
        "number_right = 0\n",
        "model.eval()\n",
        "with torch.no_grad():\n",
        "    for idx, row in test_data.iterrows():\n",
        "        text_parts = preprocess_text(str(row['text']))\n",
        "        label = torch.tensor([row['is_fake']]).float().to(device)\n",
        "\n",
        "        overall_output = torch.zeros((1,2)).to(device)\n",
        "        try:\n",
        "            for part in text_parts:\n",
        "                if len(part) > 0:\n",
        "                    overall_output += model(part.reshape(1, -1))[0]\n",
        "        except RuntimeError:\n",
        "            print(\"GPU out of memory, skipping this entry.\")\n",
        "            continue\n",
        "\n",
        "        overall_output = F.softmax(overall_output[0], dim=-1)\n",
        "\n",
        "        result = overall_output.max(0)[1].float().item()\n",
        "        resultl.append(result)\n",
        "        labell.append(label.item())\n",
        "\n",
        "        if result == label.item():\n",
        "            number_right += 1\n",
        "\n",
        "\n",
        "        if idx % print_every == 0 and idx > 0:\n",
        "            print(\"{}/{}. Current accuracy: {}\".format(idx, total, number_right / idx))\n",
        "\n",
        "print(\"Accuracy on test data: {}\".format(number_right / total))\n",
        "\n",
        ""
      ],
      "execution_count": null,
      "outputs": [
        {
          "output_type": "stream",
          "text": [
            "300/8567. Current accuracy: 0.9733333333333334\n",
            "600/8567. Current accuracy: 0.9716666666666667\n",
            "900/8567. Current accuracy: 0.9633333333333334\n",
            "1200/8567. Current accuracy: 0.955\n",
            "1500/8567. Current accuracy: 0.958\n",
            "1800/8567. Current accuracy: 0.9627777777777777\n",
            "2100/8567. Current accuracy: 0.9642857142857143\n",
            "2400/8567. Current accuracy: 0.965\n",
            "2700/8567. Current accuracy: 0.9651851851851851\n",
            "3000/8567. Current accuracy: 0.964\n",
            "3300/8567. Current accuracy: 0.9645454545454546\n",
            "3600/8567. Current accuracy: 0.9644444444444444\n",
            "3900/8567. Current accuracy: 0.9648717948717949\n",
            "4200/8567. Current accuracy: 0.9652380952380952\n",
            "4500/8567. Current accuracy: 0.9653333333333334\n",
            "4800/8567. Current accuracy: 0.9660416666666667\n",
            "5100/8567. Current accuracy: 0.9654901960784313\n",
            "5400/8567. Current accuracy: 0.9651851851851851\n",
            "5700/8567. Current accuracy: 0.9652631578947368\n",
            "6000/8567. Current accuracy: 0.966\n",
            "6300/8567. Current accuracy: 0.966031746031746\n",
            "6600/8567. Current accuracy: 0.9659090909090909\n",
            "6900/8567. Current accuracy: 0.9657971014492753\n",
            "7200/8567. Current accuracy: 0.9663888888888889\n",
            "7500/8567. Current accuracy: 0.966\n",
            "7800/8567. Current accuracy: 0.9662820512820512\n",
            "8100/8567. Current accuracy: 0.9665432098765432\n",
            "8400/8567. Current accuracy: 0.965952380952381\n",
            "Accuracy on test data: 0.9655655421968017\n"
          ],
          "name": "stdout"
        }
      ]
    },
    {
      "cell_type": "markdown",
      "metadata": {
        "id": "R_KEEvU-yob5"
      },
      "source": [
        "# Confusion Matrix"
      ]
    },
    {
      "cell_type": "code",
      "metadata": {
        "id": "icLMITVeyq9S"
      },
      "source": [
        "%matplotlib inline\n",
        "from sklearn.metrics import confusion_matrix\n",
        "import itertools\n",
        "import matplotlib.pyplot as plt\n",
        "\n",
        "cm = confusion_matrix(y_true=labell, y_pred=resultl)\n",
        "\n",
        "def plot_confusion_matrix(cm, classes,\n",
        "                        normalize=False,\n",
        "                        title='Confusion matrix',\n",
        "                        cmap=plt.cm.Blues):\n",
        "    \"\"\"\n",
        "    This function prints and plots the confusion matrix.\n",
        "    Normalization can be applied by setting `normalize=True`.\n",
        "    \"\"\"\n",
        "    plt.imshow(cm, interpolation='nearest', cmap=cmap)\n",
        "    plt.title(title)\n",
        "    plt.colorbar()\n",
        "    tick_marks = np.arange(len(classes))\n",
        "    plt.xticks(tick_marks, classes, rotation=45)\n",
        "    plt.yticks(tick_marks, classes)\n",
        "\n",
        "    if normalize:\n",
        "        cm = cm.astype('float') / cm.sum(axis=1)[:, np.newaxis]\n",
        "        print(\"Normalized confusion matrix\")\n",
        "    else:\n",
        "        print('Confusion matrix, without normalization')\n",
        "\n",
        "    print(cm)\n",
        "\n",
        "    thresh = cm.max() / 2.\n",
        "    for i, j in itertools.product(range(cm.shape[0]), range(cm.shape[1])):\n",
        "        plt.text(j, i, cm[i, j],\n",
        "            horizontalalignment=\"center\",\n",
        "            color=\"white\" if cm[i, j] > thresh else \"black\")\n",
        "\n",
        "    plt.tight_layout()\n",
        "    plt.ylabel('True label')\n",
        "    plt.xlabel('Predicted label')"
      ],
      "execution_count": null,
      "outputs": []
    },
    {
      "cell_type": "code",
      "metadata": {
        "id": "IrcxzExEUsVo"
      },
      "source": [
        "cm_plot_labels = ['Real','Fake']"
      ],
      "execution_count": null,
      "outputs": []
    },
    {
      "cell_type": "code",
      "metadata": {
        "colab": {
          "base_uri": "https://localhost:8080/",
          "height": 362
        },
        "id": "pOjnzHGIUs-q",
        "outputId": "d495b708-fc0a-4f6b-c8a0-b672eb2f690f"
      },
      "source": [
        "plot_confusion_matrix(cm=cm, classes=cm_plot_labels, title='Confusion Matrix')"
      ],
      "execution_count": null,
      "outputs": [
        {
          "output_type": "stream",
          "text": [
            "Confusion matrix, without normalization\n",
            "[[4030  228]\n",
            " [  67 4242]]\n"
          ],
          "name": "stdout"
        },
        {
          "output_type": "display_data",
          "data": {
            "image/png": "[encoded data removed]",
            "text/plain": [
              "<Figure size 432x288 with 2 Axes>"
            ]
          },
          "metadata": {
            "tags": [],
            "needs_background": "light"
          }
        }
      ]
    },
    {
      "cell_type": "code",
      "metadata": {
        "colab": {
          "base_uri": "https://localhost:8080/"
        },
        "id": "rRTDez73JIsU",
        "outputId": "d941e48b-0ca5-4841-bedd-8f6fc1b6caf6"
      },
      "source": [
        "from sklearn.metrics import f1_score\n",
        "f1_score(labell,resultl,average='macro')"
      ],
      "execution_count": null,
      "outputs": [
        {
          "output_type": "execute_result",
          "data": {
            "text/plain": [
              "0.9655444426334564"
            ]
          },
          "metadata": {
            "tags": []
          },
          "execution_count": 26
        }
      ]
    },
    {
      "cell_type": "code",
      "metadata": {
        "colab": {
          "base_uri": "https://localhost:8080/",
          "height": 296
        },
        "id": "rhJn1k_S5fB6",
        "outputId": "c00796cb-3b89-48eb-a6f3-3233f8ec7bd8"
      },
      "source": [
        "from matplotlib import pyplot\n",
        "from sklearn.metrics import roc_curve\n",
        "from sklearn.metrics import roc_auc_score\n",
        "# predict probabilities\n",
        "y_test = labell\n",
        "y_score = resultl\n",
        "#pred = model.predict(padded_test)\n",
        "# Probability of True class\n",
        "y_score = y_score\n",
        "\n",
        "# calculate scores\n",
        "auc = roc_auc_score(y_test, y_score)\n",
        "# summarize scores\n",
        "print('RF Model: ROC AUC=%.3f' % (auc))\n",
        "# calculate roc curves\n",
        "fpr, tpr, _ = roc_curve(y_test, y_score)\n",
        "# plot the roc curve for the model\n",
        "pyplot.plot(fpr, tpr, marker='.', label='BERT model')\n",
        "# axis labels\n",
        "pyplot.xlabel('False Positive Rate')\n",
        "pyplot.ylabel('True Positive Rate')\n",
        "# show the legend\n",
        "pyplot.legend()\n",
        "# show the plot\n",
        "pyplot.show()"
      ],
      "execution_count": null,
      "outputs": [
        {
          "output_type": "stream",
          "text": [
            "RF Model: ROC AUC=0.965\n"
          ],
          "name": "stdout"
        },
        {
          "output_type": "display_data",
          "data": {
            "image/png": "[encoded data removed]",
            "text/plain": [
              "<Figure size 432x288 with 1 Axes>"
            ]
          },
          "metadata": {
            "tags": [],
            "needs_background": "light"
          }
        }
      ]
    },
    {
      "cell_type": "markdown",
      "metadata": {
        "id": "4fCqT-KmGZfA"
      },
      "source": [
        "## Testing Custom Inputs"
      ]
    },
    {
      "cell_type": "code",
      "metadata": {
        "id": "qgyfNs1u_RdD"
      },
      "source": [
        "def test(text):\n",
        "    text_parts = preprocess_text(text)\n",
        "    overall_output = torch.zeros((1,2)).to(device)\n",
        "    try:\n",
        "        for part in text_parts:\n",
        "            if len(part) > 0:\n",
        "                overall_output += model(part.reshape(1, -1))[0]\n",
        "    except RuntimeError:\n",
        "        print(\"GPU out of memory, skipping this entry.\")\n",
        "\n",
        "    overall_output = F.softmax(overall_output[0], dim=-1)\n",
        "\n",
        "    value, result = overall_output.max(0)\n",
        "\n",
        "    term = \"fake\"\n",
        "    if result.item() == 0:\n",
        "        term = \"real\"\n",
        "\n",
        "    print(\"{} at {}%\".format(term, value.item() * 100))"
      ],
      "execution_count": null,
      "outputs": []
    },
    {
      "cell_type": "code",
      "metadata": {
        "id": "i9h6lDmS_RdD",
        "colab": {
          "base_uri": "https://localhost:8080/"
        },
        "outputId": "cc1de621-48d5-4e13-c94b-9f03abddbc26"
      },
      "source": [
        "fake1 = \"\"\"\n",
        "Americans to fund killing babies in abortion that she has been caught trying to add taxpayer financing of abortions to the bill to combat the Coronavirus and provide economic stimulus to the nation as it deals with the COVD-19 outbreak.\n",
        "Nancy Pelosi has a long history of promoting abortion and her first act after becoming Speaker in 2019 was pushing legislation to use tax money for abortions. So it’s no surprise she is trying to exploit the Coronavirus pandemic to push abortion funding again.\n",
        "As The Daily Caller reports: House Speaker Nancy Pelosi sought to include a potential way to guarantee federal funding for abortion into the coronavirus economic stimulus plan, according to multiple senior White House officials.\n",
        "Speaking to the Daily Caller, those officials alleged that while negotiating the stimulus with U.S. Treasury Secretary Steve Mnuchin, Pelosi tried to lobby for “several” provisions that stalled bipartisan commitment to the effort. One was a mandate for up to $1 billion to reimburse laboratory claims, which White House officials say would set a precedent of health spending without protections outlined in the Hyde Amendment.\n",
        "LifeNews depends on the support of readers like you to combat the pro-abortion media. Please donate now.\n",
        "“A New mandatory funding stream that does not have Hyde protections would be unprecedented,” one White House official explained. “Under the guise of protecting people, Speaker Pelosi is working to make sure taxpayer dollars are spent covering abortion—which is not only backwards, but goes against historical norms.”\n",
        "A second White House official referred to the provision as a “slush fund” and yet another questioned “what the Hyde Amendment and abortion have to do with protecting Americans from coronavirus?”\n",
        "Americans should insist to their members of Congress that we need a clean bill that provides aggressive action to help patients and spur the economy. Killing babies with our tax dollars is not the answer to the coronavirus and the situation should not be exploited for political gain.\n",
        "\"\"\"\n",
        "\n",
        "true1 = \"\"\"\n",
        "Price spikes, however, would cause demand to wither and some expensive avocados might be leftover, and stores might try to ration avocados, he added.\n",
        "\"Exactly what the retail strategy would be in this case, I’m not sure. But we would have vastly fewer avocados,\" Sumner said.\n",
        "Just how fast avocados would disappear, if at all, would depend on whether the Trump administration enacts a full or partial border closure. White House economic adviser Larry Kudlow told CNBC he’s looking for ways to keep some commerce flowing.\n",
        "\"We are looking at different options, particularly if you can keep those freight lanes, the truck lanes, open,\" he said this week.\n",
        "Ben Holtz owns Rocky H Ranch, a 70-acre family-run avocado farm in northern San Diego County. He agreed avocados would run out within weeks.\n",
        "\"Mexico is the big player today. California is not. You shut down the border and California can’t produce to meet the demand,\" Holtz said. \"There will be people without their guacamole.\"\n",
        "While Mexico’s avocado harvest is year-round, California’s is limited to April through July. Growers in the state have picked only about 3 percent of what’s expected to be a much smaller crop of about 175 million pounds this year, Holtz said. A heat wave last summer reduced the crop size.\n",
        "California’s avocado harvest has averaged approximately 300 million pounds in recent years, according to data from the California Avocado Commission. By contrast, the U.S. has imported more than 1.5 billion pounds of avocados from Mexico annually. Representatives from the commission did not respond to requests for this article.\n",
        "Altogether, the U.S. received 43 percent of its fruit and vegetable imports from Mexico in 2016, according to the U.S. Department of Agriculture.\n",
        "Also affecting this year’s avocado supply, a California avocado company in March recalled shipments to six states last month after fears the fruit might be contaminated with a bacterium that can cause health risks.\n",
        "Until the early 2000s, California was the nation’s leading supplier of avocados, Holtz said. Mexico gradually overtook the state and now dominates sales in the U.S.\n",
        "\"It’s a very big possibility,\" Holtz said of avocado shortages. \"Three weeks would dry up the Mexican inventory. California alone consumes more avocados than are grown in our state. Cold storage supply chain is basically three weeks or less of inventory. Most of the time it’s seven days.\"\n",
        "A spokeswoman for the California Restaurant Association said \"we haven’t heard concerns from restaurants, it doesn’t mean they aren’t worried.\" A national grocers association said it will \"continue to closely monitor any developments\" at the border, but did not have information about the potential impact on avocados.\n",
        "\"\"\"\n",
        "\n",
        "test(fake1)\n",
        "test(true1)\n",
        "\n"
      ],
      "execution_count": null,
      "outputs": [
        {
          "output_type": "stream",
          "text": [
            "fake at 75.30455589294434%\n",
            "real at 87.16217279434204%\n"
          ],
          "name": "stdout"
        }
      ]
    },
    {
      "cell_type": "markdown",
      "metadata": {
        "id": "rl3ETSB69UhO"
      },
      "source": [
        "Recorded true news from CNN:"
      ]
    },
    {
      "cell_type": "code",
      "metadata": {
        "id": "vAg-9V7E_RdI",
        "colab": {
          "base_uri": "https://localhost:8080/"
        },
        "outputId": "96d4453a-d73e-46df-a9dc-65ee0175f91e"
      },
      "source": [
        "true2= \"\"\"\"Former president once again invoked the Big Lodge Beach Beach in Arizona over the weekend\n",
        "      ,where to the surprise of really nobody, he came out forcefully behind that sham audit of millions\n",
        "      of votes cast in and around Phoenix during the last election. But science was also under attack during the event,\n",
        "      even though he did manage to make a someone guarded endorsement of the COVID vaccine, which is certainly helpful to some degree.\n",
        "       \"\"\"\n",
        "test(true2)"
      ],
      "execution_count": null,
      "outputs": [
        {
          "output_type": "stream",
          "text": [
            "fake at 63.91133666038513%\n"
          ],
          "name": "stdout"
        }
      ]
    },
    {
      "cell_type": "markdown",
      "metadata": {
        "id": "DZw-YavP7y0e"
      },
      "source": [
        "From True.csv :"
      ]
    },
    {
      "cell_type": "code",
      "metadata": {
        "id": "Vh0klUNHSYGt",
        "colab": {
          "base_uri": "https://localhost:8080/"
        },
        "outputId": "071cac7d-a4d5-4514-acaf-337fa981f189"
      },
      "source": [
        "true4=\"\"\"A lottery drawing to settle a tied Virginia legislative race that could shift the statehouse balance of power has been indefinitely postponed, state election officials said on Tuesday, after the Democratic candidate mounted a legal fight.\n",
        "    The decision to put off the high-stakes lotto, originally scheduled for Wednesday, marks the latest twist in a dramatic election recount that at one point showed Democrat Shelly Simonds beating Republican incumbent David Yancey by a single vote.\n",
        "    A victory by Simonds would shift Republicansâ€™ slim control of the 100-member House of Delegates to an even 50-50 split with the Democrats, forcing the two parties into a rare power-sharing arrangement.\n",
        "    A day after Simonds emerged as the victor of a recount, a three-judge panel ruled that a disputed ballot should be counted for Yancey.\n",
        "    That decision left the two candidates tied with 11,608 votes each in a district that encompasses the shipping hub of Newport News in southeastern Virginia, setting the stage for the equivalent of a coin toss to pick a final winner.\n",
        "    Simonds asked a state court to reconsider on Tuesday, arguing that the disputed ballot was wrongly included.\n",
        "    An image filed in court showed that the ballot had bubbles filled in beside both names, with a slash mark by Simondsâ€™ name.\n",
        "    The voter selected Republicans for other offices. Simonds told reporters that the case had implications not only for her contest but for the integrity of state elections as a whole,\n",
        "    saying that without a court ruling in her favor, â€œrecounts would become a never-ending spiral of courtroom challenges.â€ The chairman of the Virginia Board of Elections, James Alcorn,\n",
        "    said in a statement that while holding a lottery would be in keeping with state law, such a move should be considered â€œan action of last resort.â€\n",
        "    He added: â€œAny substantive concerns regarding the election or recount should be resolved before a random drawing is conducted.â€\n",
        "    Yanceyâ€™s campaign did not immediately respond to requests for comment. The Virginia House Republican Caucus said in a statement that it was reviewing the new court filings.\n",
        "    â€œWe believe the court acted appropriately and that the integrity of the process is without question,â€ spokesman Parker Slaybaugh said. Virginia Department of Elections spokeswoman Andrea Gaines said in an email that no new date for a drawing has been set.\n",
        "    Democrats notched historic gains in Virginiaâ€™s statehouse elections last month, part of the partyâ€™s first big wave of political victories since Republican Donald Trump won the White House last year.\n",
        "    Before the Nov. 7 general election, Virginia Republicans held 66 seats to the Democratsâ€™ 34 in the House of Delegates, along with a majority in the state Senate.\n",
        "            \"\"\"\n",
        "test(true4)"
      ],
      "execution_count": null,
      "outputs": [
        {
          "output_type": "stream",
          "text": [
            "real at 86.93874478340149%\n"
          ],
          "name": "stdout"
        }
      ]
    },
    {
      "cell_type": "markdown",
      "metadata": {
        "id": "D7njMI5tGRT-"
      },
      "source": [
        "True4: BBC https://youtu.be/N1MmTEtwsl0"
      ]
    },
    {
      "cell_type": "code",
      "metadata": {
        "id": "2vcaFphpGRCH",
        "colab": {
          "base_uri": "https://localhost:8080/"
        },
        "outputId": "42b097c8-6010-4dfd-b8c3-29aab1d49828"
      },
      "source": [
        "True4= \"headlines today as Joe Biden tightens his grip on the White House. Donald Trump makes more unsubstantiated claims of voting for. If you count the legal votes, I easily win if you count the illegal votes, they can try to steal. Election. Joe Biden appeals for calm and says democracy sometimes requires a little patience. We have no doubt that when the county should be centered Harrison, I will be declared the winners. So I ask everyone to stay calm. All people to stay calm.\"\n",
        "test(true4)"
      ],
      "execution_count": null,
      "outputs": [
        {
          "output_type": "stream",
          "text": [
            "real at 86.93874478340149%\n"
          ],
          "name": "stdout"
        }
      ]
    },
    {
      "cell_type": "markdown",
      "metadata": {
        "id": "V7U8ry_aIHNa"
      },
      "source": [
        "https://youtu.be/wzQj6D0fyIg Fake news clips presented in the show\n"
      ]
    },
    {
      "cell_type": "code",
      "metadata": {
        "id": "af6c2nfXIG7Z",
        "colab": {
          "base_uri": "https://localhost:8080/"
        },
        "outputId": "3f5cea1c-73f5-4307-cc27-901bae36ffb2"
      },
      "source": [
        "false4 = \" say goodbye to your burgers. If you want to sign up for the Biden climate agenda, researchers say you'd have to cut about 90% of red meat from your diet. For Americans, that means a limit of £4.00 of red meat per year. Americans would have to cut red meat consumption by a whopping 90%. That means only one burger a month. Part of his climate or green targets are to cut our red meat he wants to. Cut out 90% of the red need that you all eat that's £4.00 a year. Listen £44 a year. That's my weekly consumption of red meat at the minimum. No burgers on July 4th. No steaks on the Barbie. I'm sure Middle America is just kind of love that can you grill those Brussels sprouts so get ready. You can throw back a plant based beer with your grilled Brussels sprouts and wave your American flag. That's right, and binds them here. \"\n",
        "\n",
        "test(false4)"
      ],
      "execution_count": null,
      "outputs": [
        {
          "output_type": "stream",
          "text": [
            "fake at 73.07451963424683%\n"
          ],
          "name": "stdout"
        }
      ]
    },
    {
      "cell_type": "code",
      "metadata": {
        "id": "xCVLYprH5XEH"
      },
      "source": [],
      "execution_count": null,
      "outputs": []
    }
  ]
}